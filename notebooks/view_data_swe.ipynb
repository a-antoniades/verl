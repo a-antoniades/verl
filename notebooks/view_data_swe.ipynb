{
 "cells": [
  {
   "cell_type": "code",
   "execution_count": 1,
   "metadata": {},
   "outputs": [
    {
     "name": "stdout",
     "output_type": "stream",
     "text": [
      "len(raw_data): 1452\n"
     ]
    }
   ],
   "source": [
    "import os\n",
    "import pandas as pd\n",
    "import json\n",
    "from pathlib import Path\n",
    "import tiktoken\n",
    "\n",
    "model = \"Qwen/Qwen2.5-Coder-32B-Instruct\"\n",
    "\n",
    "# Load the raw parquet data\n",
    "# parquet_path = \"/share/edc/home/antonis/swe-gym-setup/verl/data/swe-bench/swe-verifier-50/train.parquet\"\n",
    "parquet_path = \"/share/edc/home/antonis/swe-gym-setup/verl/data/swe-bench/swe-verifier-50/no-feedback/train_window.parquet\"\n",
    "# parquet_path = \"/share/edc/home/antonis/swe-gym-setup/verl/data/swe-bench/test.parquet\"\n",
    "# parquet_path = \"/share/edc/home/antonis/_swe-planner/moatless-tree-search//evaluations/swe-1/debug/mock_data/train_debug.parquet\"\n",
    "raw_data = pd.read_parquet(parquet_path)\n",
    "print(f\"len(raw_data): {len(raw_data)}\")\n",
    "\n",
    "df = raw_data\n",
    "\n",
    "# Get the first row\n",
    "first_row = df.iloc[0]\n"
   ]
  },
  {
   "cell_type": "code",
   "execution_count": 4,
   "metadata": {},
   "outputs": [
    {
     "data": {
      "text/plain": [
       "{'action_group': 0,\n",
       " 'answer': 'placeholder_answer',\n",
       " 'evaluation_name': 'debug/depth_first_diff_agent/6_tests_depth_first/sampled_50_verified/no_feedback/openai/Qwen/Qwen2.5-Coder-32B-Instruct',\n",
       " 'index': 0,\n",
       " 'instance_id': 'django__django-12419',\n",
       " 'node_id': 199,\n",
       " 'question': 'Add secure default SECURE_REFERRER_POLICY / Referrer-policy header\\nDescription\\n\\t\\n#29406 added the ability for the SECURE_REFERRER_POLICY setting to set Referrer-Policy, released in Django 3.0.\\nI propose we change the default for this to \"same-origin\" to make Django applications leak less information to third party sites.\\nThe main risk of breakage here would be linked websites breaking, if they depend on verification through the Referer header. This is a pretty fragile technique since it can be spoofed.\\nDocumentation: \\u200bhttps://developer.mozilla.org/en-US/docs/Web/HTTP/Headers/Referrer-Policy\\nThe MDN support grid is out of date: \\u200bhttps://caniuse.com/#search=Referrer-Policy\\n',\n",
       " 'split': 'train',\n",
       " 'trajectory_number': 1}"
      ]
     },
     "execution_count": 4,
     "metadata": {},
     "output_type": "execute_result"
    }
   ],
   "source": [
    "first_row['extra_info']"
   ]
  },
  {
   "cell_type": "code",
   "execution_count": 6,
   "metadata": {},
   "outputs": [
    {
     "name": "stdout",
     "output_type": "stream",
     "text": [
      "--- prompt 0, system, django__django-12419 ---\n",
      "\n",
      "\n",
      "\n",
      "--- prompt 1, user, django__django-12419 ---\n",
      "\n",
      "\n",
      "\n",
      "--- prompt 2, assistant, django__django-12419 ---\n",
      "\n",
      "\n",
      "\n",
      "Total tokens in all prompts: 4847\n"
     ]
    }
   ],
   "source": [
    "text_str = \"\"\n",
    "\n",
    "# Function to count tokens\n",
    "def count_tokens(text, model_name=\"gpt-3.5-turbo\"):\n",
    "    \"\"\"Count the number of tokens in a text string using tiktoken.\"\"\"\n",
    "    try:\n",
    "        encoding = tiktoken.encoding_for_model(model_name)\n",
    "    except KeyError:\n",
    "        encoding = tiktoken.get_encoding(\"cl100k_base\")  # Fallback encoding\n",
    "    \n",
    "    return len(encoding.encode(text))\n",
    "\n",
    "# Print each column's value one by one\n",
    "for i, row in df.iterrows():\n",
    "    for i, column in enumerate(df.columns):\n",
    "        instance_id = first_row['extra_info']['instance_id']\n",
    "        # print(f\"column {i}, {column}\")\n",
    "        # print(first_row[column])\n",
    "        if column == 'prompt':\n",
    "            for i, p in enumerate(first_row[column]):\n",
    "                prompt_str = f\"--- prompt {i}, {p['role']}, {instance_id} ---\"\n",
    "                text_str += prompt_str\n",
    "                text_str += p['content']\n",
    "                text_str += \"\\n\\n\"\n",
    "                \n",
    "                # Count tokens in this prompt content\n",
    "                token_count = count_tokens(p['content'])\n",
    "                \n",
    "                print(prompt_str)\n",
    "                # print(p['content'])\n",
    "                # print(f\"Token count: {token_count}\")\n",
    "                print(\"\\n\\n\")\n",
    "    if i > 1:\n",
    "        break\n",
    "\n",
    "# Count tokens in the entire text_str\n",
    "total_tokens = count_tokens(text_str)\n",
    "print(f\"Total tokens in all prompts: {total_tokens}\")\n",
    "\n",
    "\n",
    "# save text_str to a file\n",
    "with open(os.path.join(os.path.dirname(parquet_path), 'text_str_fmt_summary.txt'), 'w') as f:\n",
    "    f.write(text_str)"
   ]
  },
  {
   "cell_type": "code",
   "execution_count": 7,
   "metadata": {},
   "outputs": [
    {
     "name": "stdout",
     "output_type": "stream",
     "text": [
      "<class 'numpy.ndarray'>\n",
      "<class 'dict'>\n"
     ]
    }
   ],
   "source": [
    "print(type(first_row['prompt']))\n",
    "print(type(first_row['prompt'][0]))\n",
    "# print(type(first_row['prompt'][0]['content']))"
   ]
  },
  {
   "cell_type": "code",
   "execution_count": 10,
   "metadata": {},
   "outputs": [
    {
     "data": {
      "text/plain": [
       "array([{'content': '\\n# Workflow Overview\\n\\n1. **Understand the Task**\\n  * **Review the Task:** Carefully read the task provided in <task>.\\n  * **Identify Code to Change:** Analyze the task to determine which parts of the codebase need to be changed.\\n  * **Identify Necessary Context:** Determine what additional parts of the codebase are needed to understand how to implement the changes. Consider dependencies, related components, and any code that interacts with the affected areas.\\n\\n2. **Locate Relevant Code and Tests**\\n  * **Search for Code:** Use the search functions to find relevant code if it\\'s not in the current context:\\n      * FindClass\\n      * FindFunction\\n      * FindCodeSnippet\\n      * SemanticSearch\\n  * **View Code:** Use ViewCode to examine necessary code spans.\\n\\n3. **Apply Code Changes**\\n * **One Step at a Time:** You can only plan and implement one code change at a time.\\n * **Indentation Requirements:**\\n    * Use spaces for indentation, not tabs\\n    * Match the exact indentation of the original code\\n    * Include enough context to ensure unique matches\\n * **Choose the Appropriate Action:**\\n    * Use StringReplace to edit existing files (format: <path>, <old_str>, <new_str>)\\n    * Use CreateFile to create new files (format: <path>, <file_text>)\\n    * Use AppendString to append a string to the end of a file (format: <path>, <new_str>)\\n * **Tests Run Automatically:** Tests will run automatically after each code change.\\n\\n4. **Modify or Add Tests**\\n * **Ensure Test Coverage:** After code changes, use the same actions to update or add tests to verify the changes.\\n * **Tests Run Automatically:** Tests will run automatically after test modifications.\\n\\n5. **Repeat as Necessary**\\n  * **Iterate:** If tests fail or further changes are needed, repeat steps 2 to 4.\\n\\n6. **Finish the Task**\\n  * **Completion:** When confident that all changes are correct and the task is resolved, use Finish.\\n\\n# Important Guidelines\\n\\n * **Focus on the Specific Task**\\n  - Implement requirements exactly as specified, without additional changes.\\n  - Do not modify code unrelated to the task.\\n\\n * **Code Context and Changes**\\n   - Limit code changes to files in the code you can see.\\n   - If you need to examine more code, use ViewCode to see it.\\n\\n * **Testing**\\n   - Tests run automatically after each code change.\\n   - Always update or add tests to verify your changes.\\n   - If tests fail, analyze the output and do necessary corrections.\\n\\n * **Task Completion**\\n   - Finish the task only when the task is fully resolved and verified.\\n   - Do not suggest code reviews or additional changes beyond the scope.\\n\\n * **State Management**\\n   - Keep a detailed record of all code sections you have viewed and actions you have taken.\\n   - Before performing a new action, check your history to ensure you are not repeating previous steps.\\n   - Use the information you\\'ve already gathered to inform your next steps without re-fetching the same data.\\n\\n * **One Action at a Time**\\n   - You must perform only ONE action before waiting for the result.\\n   - Only include one Thought, one Action, and one Action Input per response.\\n   - Do not plan multiple steps ahead in a single response.\\n\\n * **Wait for the Observation**\\n   - After performing an action, wait for the observation (result) before deciding on the next action.\\n   - Do not plan subsequent actions until you have received the observation from the current action.\\n\\n# Additional Notes\\n\\n * **Think Step by Step**\\n   - Always document your reasoning and thought process in the Thought section.\\n   - Build upon previous steps without unnecessary repetition.\\n\\n * **Incremental Changes**\\n   - Remember to focus on one change at a time and verify each step before proceeding.\\n\\n * **Never Guess**\\n   - Do not guess line numbers or code content. Use ViewCode to examine code when needed.\\n\\n\\n\\n\\n# Examples\\nHere are some examples of how to use the available actions:\\n\\n\\n**Example 1**\\nTask: Find all implementations of database connection pooling in our codebase\\nThought: To find implementations of database connection pooling, we should search for code related to managing database connections efficiently. This might include classes or functions that handle connection creation, reuse, and management.\\nAction: SemanticSearch\\n{\"file_pattern\": null, \"query\": \"database connection pooling implementation\", \"category\": \"implementation\"}\\n\\n\\n**Example 2**\\nTask: We need to find all test cases related to user authentication in our test suite\\nThought: To find test cases related to user authentication, we should search for test files that contain assertions and scenarios specifically testing authentication functionality.\\nAction: SemanticSearch\\n{\"file_pattern\": \"tests/*.py\", \"query\": \"user authentication test cases\", \"category\": \"test\"}\\n\\n\\n**Example 3**\\nTask: I need to see the implementation of the DatabaseManager class to understand how it handles transactions\\nThought: To examine how the DatabaseManager class handles transactions, we need to locate its implementation in the codebase.\\nAction: FindClass\\n{\"file_pattern\": null, \"class_name\": \"DatabaseManager\"}\\n\\n\\n**Example 4**\\nTask: Show me the UserAuthentication class in the auth module\\nThought: Looking for the UserAuthentication class specifically in the authentication module.\\nAction: FindClass\\n{\"file_pattern\": \"auth/*.py\", \"class_name\": \"UserAuthentication\"}\\n\\n\\n**Example 5**\\nTask: Find the calculate_interest function in our financial module to review its logic\\nThought: To review the logic of the calculate_interest function, we need to locate its implementation in the financial module.\\nAction: FindFunction\\n{\"file_pattern\": \"financial/**/*.py\", \"function_name\": \"calculate_interest\", \"class_name\": null}\\n\\n\\n**Example 6**\\nTask: Show me the validate_token method in the JWTAuthenticator class\\nThought: Looking for the validate_token method specifically within the JWTAuthenticator class to examine the token validation logic.\\nAction: FindFunction\\n{\"file_pattern\": null, \"function_name\": \"validate_token\", \"class_name\": \"JWTAuthenticator\"}\\n\\n\\n**Example 7**\\nTask: I need to understand how the User class is structured in our authentication system. Let me find its definition.\\nThought: To find the User class definition, I\\'ll search for the exact class declaration line \\'class User(BaseModel):\\'\\nAction: FindCodeSnippet\\n{\"file_pattern\": null, \"code_snippet\": \"class User(BaseModel):\"}\\n\\n\\n**Example 8**\\nTask: The system seems to use a default timeout value. I should check where DEFAULT_TIMEOUT is defined in the configuration.\\nThought: To find the timeout configuration, I\\'ll search for the exact variable declaration \\'DEFAULT_TIMEOUT =\\' in config files\\nAction: FindCodeSnippet\\n{\"file_pattern\": \"**/config/*.py\", \"code_snippet\": \"DEFAULT_TIMEOUT =\"}\\n\\n\\n**Example 9**\\nTask: To understand how request processing works, I need to examine the _handlers dictionary in the processor service.\\nThought: To find the handlers mapping, I\\'ll search for the exact dictionary declaration \\'_handlers =\\' in the processor service\\nAction: FindCodeSnippet\\n{\"file_pattern\": \"services/processor.py\", \"code_snippet\": \"_handlers =\"}\\n\\n\\n**Example 10**\\nTask: I need to see the implementation of the authenticate method in the AuthenticationService class\\nThought: To understand the authentication implementation, we need to examine the authenticate method within the AuthenticationService class.\\nAction: ViewCode\\n{\"files\": [{\"file_path\": \"auth/service.py\", \"start_line\": null, \"end_line\": null, \"span_ids\": [\"AuthenticationService.authenticate\"]}]}\\n\\n\\n**Example 11**\\nTask: Show me lines 50-75 of the database configuration file\\nThought: To examine the database configuration settings, we\\'ll look at the specified line range in the config file.\\nAction: ViewCode\\n{\"files\": [{\"file_path\": \"config/database.py\", \"start_line\": 50, \"end_line\": 75, \"span_ids\": []}]}\\n\\n\\n**Example 12**\\nTask: Update the error message in the validate_user method\\nThought: Improving the error message to be more descriptive\\nAction: StringReplace\\n<path>auth/validator.py</path>\\n<old_str>\\n    if not user.is_active:\\n        raise ValueError(\"Invalid user\")\\n    return user\\n</old_str>\\n<new_str>\\n    if not user.is_active:\\n        raise ValueError(f\"Invalid user: {username} does not meet the required criteria\")\\n    return user\\n</new_str>\\n\\n**Example 13**\\nTask: Update the user validation logic\\nThought: Adding email validation and password strength check\\nAction: StringReplace\\n<path>auth/validator.py</path>\\n<old_str>\\ndef validate_user(username, password):\\n    if len(username) < 3:\\n        return False\\n    if len(password) < 8:\\n        return False\\n    return True\\n</old_str>\\n<new_str>\\ndef validate_user(username, password):\\n    if len(username) < 3 or not is_valid_email(username):\\n        return False\\n    if len(password) < 12 or not has_special_chars(password):\\n        return False\\n    if not has_numbers(password):\\n        return False\\n    return True\\n</new_str>\\n\\n**Example 14**\\nTask: Add a new helper function to validate passwords\\nThought: Adding a new function to check password complexity\\nAction: StringReplace\\n<path>auth/validator.py</path>\\n<old_str>\\ndef validate_user(username, password):\\n    if len(username) < 3 or not is_valid_email(username):\\n        return False\\n    if len(password) < 12 or not has_special_chars(password):\\n        return False\\n    if not has_numbers(password):\\n        return False\\n    return True\\n</old_str>\\n<new_str>\\ndef is_password_complex(password: str) -> bool:\\n    has_uppercase = any(c.isupper() for c in password)\\n    has_lowercase = any(c.islower() for c in password)\\n    has_digit = any(c.isdigit() for c in password)\\n    has_special = any(not c.isalnum() for c in password)\\n    return all([has_uppercase, has_lowercase, has_digit, has_special])\\n\\ndef validate_user(username, password):\\n    if len(username) < 3 or not is_valid_email(username):\\n        return False\\n    if len(password) < 12 or not has_special_chars(password):\\n        return False\\n    if not has_numbers(password) or not is_password_complex(password):\\n        return False\\n    return True\\n</new_str>\\n\\n**Example 15**\\nTask: Remove the deprecated logging configuration\\nThought: Removing old logging setup that\\'s no longer needed\\nAction: StringReplace\\n<path>utils/logger.py</path>\\n<old_str>\\n    # Legacy logging configuration\\n    if legacy_mode:\\n        logging.basicConfig(\\n            level=logging.DEBUG,\\n            format=\"[%(levelname)s] %(message)s\",\\n            filename=\"legacy.log\"\\n        )\\n        logger.warning(\"Using deprecated legacy logging configuration\")\\n</old_str>\\n<new_str>\\n\\n</new_str>\\n\\n**Example 16**\\nTask: Create a new Python file for handling user authentication\\nThought: Creating a new authentication module with basic user authentication functionality\\nAction: CreateFile\\n<path>auth/user_auth.py</path>\\n<file_text>\\nimport logging\\nfrom typing import Optional\\n\\nlogger = logging.getLogger(__name__)\\n\\nclass UserAuth:\\n    def __init__(self):\\n        self._users = {}\\n\\n    def authenticate(self, username: str, password: str) -> bool:\\n        if username not in self._users:\\n            logger.warning(f\"Authentication failed: User {username} not found\")\\n            return False\\n\\n        return self._users[username] == password\\n\\n    def register(self, username: str, password: str) -> bool:\\n        if username in self._users:\\n            logger.error(f\"Registration failed: User {username} already exists\")\\n            return False\\n\\n        self._users[username] = password\\n        logger.info(f\"User {username} registered successfully\")\\n        return True\\n</file_text>\\n\\n# Response format\\n\\nUse the following format:\\n\\nThought: You should always think about what to do\\nAction: The action to take followed by the input arguments based on the schema below\\n\\nUse one of the following actions and provide input arguments matching the schema.\\n\\n * SemanticSearch Requires a JSON response with the following schema: {\"description\": \"Use this when you don\\'t know exact names or code but want to find related functionality.\\\\n\\\\nPerfect for:\\\\n- Finding functionality by description: query=\\\\\"code that handles password hashing\\\\\"\\\\n- Finding related test cases: query=\\\\\"tests for user registration\\\\\", category=\\\\\"test\\\\\"\\\\n- Finding implementations: query=\\\\\"database connection pooling\\\\\", category=\\\\\"implementation\\\\\"\\\\n- Finding patterns: query=\\\\\"error handling for API requests\\\\\"\\\\n\\\\nThis is the most flexible search when you:\\\\n- Don\\'t know exact function/class names\\\\n- Want to find similar implementations\\\\n- Need to discover related code\\\\n- Want to explore how certain features are implemented\", \"properties\": {\"thoughts\": {\"description\": \"Your reasoning for the action.\", \"title\": \"Thoughts\", \"type\": \"string\"}, \"file_pattern\": {\"anyOf\": [{\"type\": \"string\"}, {\"type\": \"null\"}], \"default\": null, \"description\": \"A glob pattern to filter search results to specific files or directories.\", \"title\": \"File Pattern\"}, \"query\": {\"description\": \"Natural language description of what you\\'re looking for.\", \"title\": \"Query\", \"type\": \"string\"}, \"category\": {\"anyOf\": [{\"type\": \"string\"}, {\"type\": \"null\"}], \"default\": null, \"description\": \"The category of files to search for. This can be \\'implementation\\' for core implementation files or \\'test\\' for test files.\", \"title\": \"Category\"}}, \"required\": [\"thoughts\", \"query\"], \"title\": \"SemanticSearch\", \"type\": \"object\"}\\n\\n * FindClass Requires a JSON response with the following schema: {\"description\": \"Use this when you know the exact name of a class you want to find.\\\\n\\\\nPerfect for:\\\\n- Finding class implementations: class_name=\\\\\"UserRepository\\\\\"\\\\n- Locating test classes: class_name=\\\\\"TestUserAuthentication\\\\\"\\\\n- Finding base classes: class_name=\\\\\"BaseController\\\\\"\\\\n- Finding classes in specific modules: class_name=\\\\\"Config\\\\\", file_pattern=\\\\\"src/config/*.py\\\\\"\", \"properties\": {\"thoughts\": {\"description\": \"Your reasoning for the action.\", \"title\": \"Thoughts\", \"type\": \"string\"}, \"file_pattern\": {\"anyOf\": [{\"type\": \"string\"}, {\"type\": \"null\"}], \"default\": null, \"description\": \"A glob pattern to filter search results to specific files or directories.\", \"title\": \"File Pattern\"}, \"class_name\": {\"description\": \"Specific class name to include in the search.\", \"title\": \"Class Name\", \"type\": \"string\"}}, \"required\": [\"thoughts\", \"class_name\"], \"title\": \"FindClass\", \"type\": \"object\"}\\n\\n * FindFunction Requires a JSON response with the following schema: {\"description\": \"Use this when you know the exact name of a function or method you want to find.\\\\n\\\\nPerfect for:\\\\n- Finding test cases: function_name=\\\\\"test_user_login\\\\\"\\\\n- Locating specific implementations: function_name=\\\\\"process_payment\\\\\"\\\\n- Finding all methods with a name: function_name=\\\\\"validate\\\\\"\\\\n- Finding a specific class method: function_name=\\\\\"save\\\\\", class_name=\\\\\"UserRepository\\\\\"\", \"properties\": {\"thoughts\": {\"description\": \"Your reasoning for the action.\", \"title\": \"Thoughts\", \"type\": \"string\"}, \"file_pattern\": {\"anyOf\": [{\"type\": \"string\"}, {\"type\": \"null\"}], \"default\": null, \"description\": \"A glob pattern to filter search results to specific files or directories.\", \"title\": \"File Pattern\"}, \"function_name\": {\"description\": \"The exact name of the function or method you want to find. Must match the function definition in code.\", \"title\": \"Function Name\", \"type\": \"string\"}, \"class_name\": {\"anyOf\": [{\"type\": \"string\"}, {\"type\": \"null\"}], \"default\": null, \"description\": \"Optional class name if searching for a specific class method. Leave empty for standalone functions.\", \"title\": \"Class Name\"}}, \"required\": [\"thoughts\", \"function_name\"], \"title\": \"FindFunction\", \"type\": \"object\"}\\n\\n * FindCodeSnippet Requires a JSON response with the following schema: {\"description\": \"Use this when you know the exact code you want to find.\\\\n     It will run the command: grep -n -r \\\\\"code_snippet\\\\\" \\\\\"file_pattern\\\\\"\\\\n\\\\nPerfect for:\\\\n- Finding specific constant definitions: code_snippet=\\\\\"MAX_RETRIES = 3\\\\\"\\\\n- Finding decorator usage: code_snippet=\\\\\"@retry(max_attempts=3)\\\\\"\\\\n- Finding specific imports: code_snippet=\\\\\"from datetime import datetime\\\\\"\\\\n- Finding configuration patterns: code_snippet=\\\\\"DEBUG = os.getenv(\\'DEBUG\\', False)\\\\\"\\\\n\\\\nNote: You must know the exact code snippet. Use SemanticSearch if you only know\\\\nwhat the code does but not its exact implementation.\", \"properties\": {\"thoughts\": {\"description\": \"Your reasoning for the action.\", \"title\": \"Thoughts\", \"type\": \"string\"}, \"file_pattern\": {\"anyOf\": [{\"type\": \"string\"}, {\"type\": \"null\"}], \"default\": null, \"description\": \"A glob pattern to filter search results to specific file types or directories. \", \"title\": \"File Pattern\"}, \"code_snippet\": {\"description\": \"The exact code snippet to find.\", \"title\": \"Code Snippet\", \"type\": \"string\"}}, \"required\": [\"thoughts\", \"code_snippet\"], \"title\": \"FindCodeSnippet\", \"type\": \"object\"}\\n\\n * ViewCode Requires a JSON response with the following schema: {\"$defs\": {\"CodeSpan\": {\"properties\": {\"file_path\": {\"description\": \"The file path where the relevant code is found.\", \"title\": \"File Path\", \"type\": \"string\"}, \"start_line\": {\"anyOf\": [{\"type\": \"integer\"}, {\"type\": \"null\"}], \"default\": null, \"description\": \"The start line of the code to add to context.\", \"title\": \"Start Line\"}, \"end_line\": {\"anyOf\": [{\"type\": \"integer\"}, {\"type\": \"null\"}], \"default\": null, \"description\": \"The end line of the code to add to context.\", \"title\": \"End Line\"}, \"span_ids\": {\"description\": \"Span IDs identiying the relevant code spans. A span id is a unique identifier for a code sippet. It can be a class name or function name. For functions in classes separete with a dot like \\'class.function\\'.\", \"items\": {\"type\": \"string\"}, \"title\": \"Span Ids\", \"type\": \"array\"}}, \"required\": [\"file_path\"], \"title\": \"CodeSpan\", \"type\": \"object\"}}, \"description\": \"View the code in a file or a specific code span.\", \"properties\": {\"thoughts\": {\"description\": \"Your thoughts on the code change.\", \"title\": \"Thoughts\", \"type\": \"string\"}, \"files\": {\"description\": \"The code that should be provided in the file context.\", \"items\": {\"$ref\": \"#/$defs/CodeSpan\"}, \"title\": \"Files\", \"type\": \"array\"}}, \"required\": [\"thoughts\", \"files\"], \"title\": \"ViewCode\", \"type\": \"object\"}\\n\\n * StringReplace Requires the following XML format:\\n<path>file/path.py</path>\\n<old_str>\\nexact code to replace\\n</old_str>\\n<new_str>\\nreplacement code\\n</new_str>\\n\\n * CreateFile Requires the following XML format:\\n<path>file/path.py</path>\\n<file_text>\\ncomplete file content\\n</file_text>\\n\\n * AppendString Requires the following XML format:\\n<path>file/path.py</path>\\n<new_str>\\ncontent to append at end of file\\n</new_str>\\n\\n * RunTests Requires a JSON response with the following schema: {\"description\": \"Run the specified unit tests on the codebase.\", \"properties\": {\"thoughts\": {\"description\": \"Your reasoning on what tests to run.\", \"title\": \"Thoughts\", \"type\": \"string\"}, \"test_files\": {\"description\": \"The list of test files to run\", \"items\": {\"type\": \"string\"}, \"title\": \"Test Files\", \"type\": \"array\"}}, \"required\": [\"thoughts\", \"test_files\"], \"title\": \"RunTests\", \"type\": \"object\"}\\n\\n * Finish Requires a JSON response with the following schema: {\"description\": \"Indicate that the task is fully completed.\", \"properties\": {\"thoughts\": {\"description\": \"Your reasoning about why the task is complete.\", \"title\": \"Thoughts\", \"type\": \"string\"}, \"finish_reason\": {\"description\": \"Explanation of completion.\", \"title\": \"Finish Reason\", \"type\": \"string\"}}, \"required\": [\"thoughts\", \"finish_reason\"], \"title\": \"Finish\", \"type\": \"object\"}\\n\\n * Reject Requires a JSON response with the following schema: {\"description\": \"Reject the task and explain why.\", \"properties\": {\"thoughts\": {\"description\": \"Your reasoning for the action.\", \"title\": \"Thoughts\", \"type\": \"string\"}, \"rejection_reason\": {\"description\": \"Explanation for rejection.\", \"title\": \"Rejection Reason\", \"type\": \"string\"}}, \"required\": [\"thoughts\", \"rejection_reason\"], \"title\": \"Reject\", \"type\": \"object\"}\\n\\nImportant: Do not include multiple Thought-Action blocks. Do not include code blocks or additional text outside of this format.\\n', 'role': 'system'},\n",
       "       {'content': '<task>\\nSolve the following reported issue in the django/django repository:\\n\\nAdd secure default SECURE_REFERRER_POLICY / Referrer-policy header\\nDescription\\n\\t\\n#29406 added the ability for the SECURE_REFERRER_POLICY setting to set Referrer-Policy, released in Django 3.0.\\nI propose we change the default for this to \"same-origin\" to make Django applications leak less information to third party sites.\\nThe main risk of breakage here would be linked websites breaking, if they depend on verification through the Referer header. This is a pretty fragile technique since it can be spoofed.\\nDocumentation: \\u200bhttps://developer.mozilla.org/en-US/docs/Web/HTTP/Headers/Referrer-Policy\\nThe MDN support grid is out of date: \\u200bhttps://caniuse.com/#search=Referrer-Policy\\n\\n</task>', 'role': 'user'},\n",
       "       {'content': 'Thought: To address the task, we need to locate the default settings for the `SECURE_REFERRER_POLICY` in the Django codebase and modify it to \"same-origin\". We should also ensure that we update the documentation to reflect this change.\\nAction: SemanticSearch\\n{\\n  \"file_pattern\": \"django/conf/*.py\",\\n  \"query\": \"default SECURE_REFERRER_POLICY\",\\n  \"category\": \"implementation\"\\n}', 'role': 'assistant'}],\n",
       "      dtype=object)"
      ]
     },
     "execution_count": 10,
     "metadata": {},
     "output_type": "execute_result"
    }
   ],
   "source": [
    "df.iloc[0]['prompt']"
   ]
  },
  {
   "cell_type": "code",
   "execution_count": null,
   "metadata": {},
   "outputs": [],
   "source": []
  }
 ],
 "metadata": {
  "kernelspec": {
   "display_name": "verl",
   "language": "python",
   "name": "python3"
  },
  "language_info": {
   "codemirror_mode": {
    "name": "ipython",
    "version": 3
   },
   "file_extension": ".py",
   "mimetype": "text/x-python",
   "name": "python",
   "nbconvert_exporter": "python",
   "pygments_lexer": "ipython3",
   "version": "3.12.2"
  }
 },
 "nbformat": 4,
 "nbformat_minor": 2
}
